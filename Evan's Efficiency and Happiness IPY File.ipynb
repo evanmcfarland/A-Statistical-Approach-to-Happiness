{
 "cells": [
  {
   "cell_type": "code",
   "execution_count": null,
   "metadata": {
    "scrolled": false
   },
   "outputs": [],
   "source": [
    "from csv import reader\n",
    "opened_file = open('lifestyleParams.csv')\n",
    "read_file = reader(opened_file)\n",
    "evan_data = list(read_file)\n",
    "evan_data_header = evan_data[0]\n",
    "evan_data = (evan_data[1:])\n",
    "evan_data_header"
   ]
  },
  {
   "cell_type": "code",
   "execution_count": null,
   "metadata": {},
   "outputs": [],
   "source": [
    "import numpy as np\n",
    "import pandas as pd\n",
    "import matplotlib.pyplot as plt"
   ]
  },
  {
   "cell_type": "code",
   "execution_count": null,
   "metadata": {},
   "outputs": [],
   "source": [
    "# Making the dataframe\n",
    "evan_array = np.array([evan_data])\n",
    "evan_df = pd.read_csv('lifestyleParams.csv', index_col=0)\n",
    "\n",
    "# Trim the excess\n",
    "evan_df.drop(labels='m', axis=1, inplace=True)\n",
    "evan_df = evan_df.dropna()\n",
    "evan_df"
   ]
  },
  {
   "cell_type": "code",
   "execution_count": null,
   "metadata": {
    "scrolled": true
   },
   "outputs": [],
   "source": [
    "evan_df.describe()"
   ]
  },
  {
   "cell_type": "code",
   "execution_count": null,
   "metadata": {},
   "outputs": [],
   "source": [
    "import seaborn as sns\n",
    "fig, ax = plt.subplots(figsize=(15,10))\n",
    "df_corr = evan_df.corr()\n",
    "ax = sns.heatmap(df_corr, cmap=\"YlGnBu\", annot=True, annot_kws={'size': 15})\n",
    "bottom, top = ax.get_ylim()\n",
    "ax.set_ylim(bottom + 0.5, top - 0.5)"
   ]
  },
  {
   "cell_type": "code",
   "execution_count": null,
   "metadata": {},
   "outputs": [],
   "source": [
    "evan_df['BH_SMA'] = evan_df['Book Hours'].rolling(6, min_periods=1).mean()\n",
    "evan_df['WH_SMA'] = evan_df['Wasted Hours'].rolling(6, min_periods=1).mean()\n",
    "evan_df['E_SMA'] = evan_df['Efficiency'].rolling(20, min_periods=1).mean()\n",
    "evan_df['H_SMA'] = evan_df['Happiness'].rolling(20, min_periods=1).mean()\n",
    "evan_df['M_SMA'] = evan_df['Minutes Meditated'].rolling(6, min_periods=1).mean()"
   ]
  },
  {
   "cell_type": "code",
   "execution_count": null,
   "metadata": {},
   "outputs": [],
   "source": [
    "import matplotlib.pyplot as plt\n",
    "\n",
    "%matplotlib inline\n",
    "plt.style.use('seaborn')\n",
    "\n",
    "evan_df['BH_SMA'].plot(color='orange', linewidth=2, figsize=(12,6))\n",
    "evan_df['WH_SMA'].plot(color='green', linewidth=2, figsize=(12,6))\n",
    "\n",
    "plt.xticks(fontsize=14)\n",
    "plt.yticks(fontsize=14)\n",
    "plt.legend(labels =['Book Hours', 'Wasted Hours'], fontsize=14)\n",
    "\n",
    "plt.title('How Time Was Spent', fontsize=20)\n",
    "plt.xlabel('Date', fontsize=16)\n",
    "plt.ylabel('Hours', fontsize=16)"
   ]
  },
  {
   "cell_type": "code",
   "execution_count": null,
   "metadata": {},
   "outputs": [],
   "source": [
    "import matplotlib.pyplot as plt\n",
    "\n",
    "%matplotlib inline\n",
    "plt.style.use('seaborn')\n",
    "\n",
    "evan_df['E_SMA'].plot(color='blue', linewidth=2, figsize=(12,6))\n",
    "evan_df['H_SMA'].plot(color='green', linewidth=2, figsize=(12,6))\n",
    "evan_df['M_SMA'].plot(color='red', linewidth=2, figsize=(12,6))\n",
    "\n",
    "plt.xticks(fontsize=14)\n",
    "plt.yticks(fontsize=14)\n",
    "plt.legend(labels =['Efficiency', 'Happiness', 'Meditation'], fontsize=14)\n",
    "\n",
    "plt.axvline(x=47)\n",
    "plt.axvline(x=57)\n",
    "plt.axvline(x=85)\n",
    "plt.axvline(x=103)\n",
    "plt.axvline(x=125)\n",
    "plt.axvline(x=141)\n",
    "plt.axvline(x=156)\n",
    "plt.axvline(x=181)\n",
    "plt.axvline(x=189)\n",
    "plt.axvline(x=195)\n",
    "plt.axvline(x=202)\n",
    "plt.axvline(x=211) # Macrodose 1.5g Cubensis\n",
    "plt.axvline(x=221)\n",
    "plt.axvline(x=224)\n",
    "plt.axvline(x=234)\n",
    "plt.axvline(x=241) # 0.2g Cubensis\n",
    "plt.axvline(x=259)\n",
    "plt.axvline(x=327) # 30ug\n",
    "plt.axvline(x=345)\n",
    "plt.axvline(x=360)\n",
    "plt.axvline(x=372)\n",
    "\n",
    "\n",
    "plt.title('Happiness', fontsize=20)\n",
    "plt.xlabel('Date', fontsize=16)\n",
    "plt.ylabel('Percent', fontsize=16)"
   ]
  },
  {
   "cell_type": "code",
   "execution_count": null,
   "metadata": {},
   "outputs": [],
   "source": [
    "# import seaborn as sns\n",
    "# fig, ax = plt.subplots(figsize=(15,10))\n",
    "# df_corr = evan_df.corr()\n",
    "# ax = sns.heatmap(df_corr, cmap=\"YlGnBu\", annot=True, annot_kws={'size': 15})\n",
    "# bottom, top = ax.get_ylim()\n",
    "# ax.set_ylim(bottom + 0.5, top - 0.5)"
   ]
  },
  {
   "cell_type": "code",
   "execution_count": null,
   "metadata": {},
   "outputs": [],
   "source": [
    "from sklearn.preprocessing import MinMaxScaler\n",
    "\n",
    "scaler = MinMaxScaler()\n",
    "norm_df = pd.DataFrame(scaler.fit_transform(evan_df), columns=evan_df.columns, index=evan_df.index)"
   ]
  },
  {
   "cell_type": "code",
   "execution_count": null,
   "metadata": {},
   "outputs": [],
   "source": [
    "norm_df"
   ]
  },
  {
   "cell_type": "code",
   "execution_count": null,
   "metadata": {},
   "outputs": [],
   "source": [
    "import matplotlib.pyplot as plt\n",
    "\n",
    "%matplotlib inline\n",
    "plt.style.use('seaborn')\n",
    "\n",
    "norm_df['H_SMA'].plot(color='red', linewidth=1, figsize=(30,12))\n",
    "norm_df['E_SMA'].plot(color='green', linewidth=1, figsize=(30,12))\n",
    "# norm_df['M_SMA'].plot(color='red', linewidth=1, figsize=(12,6))\n",
    "\n",
    "plt.xticks(fontsize=14)\n",
    "plt.yticks(fontsize=14)\n",
    "plt.legend(labels =['Happiness', 'Efficiency', 'Wasted Hours'], fontsize=14)\n",
    "\n",
    "plt.title('Meditation', fontsize=20)\n",
    "plt.xlabel('Wasted Hours', fontsize=16)\n",
    "plt.ylabel('Percent', fontsize=16)\n",
    "\n",
    "plt.axvline(x=47)\n",
    "plt.axvline(x=57)\n",
    "plt.axvline(x=85)\n",
    "plt.axvline(x=103)\n",
    "plt.axvline(x=125)\n",
    "plt.axvline(x=141)\n",
    "plt.axvline(x=156)\n",
    "plt.axvline(x=181)\n",
    "plt.axvline(x=189)\n",
    "plt.axvline(x=195)\n",
    "plt.axvline(x=202)\n",
    "plt.axvline(x=211) # Macrodose 1.5g Cubensis\n",
    "plt.axvline(x=221)\n",
    "plt.axvline(x=224)\n",
    "plt.axvline(x=234)\n",
    "plt.axvline(x=241) # 0.2g Cubensis\n",
    "plt.axvline(x=259)\n",
    "plt.axvline(x=327) # 30ug\n",
    "plt.axvline(x=345)\n",
    "plt.axvline(x=360)\n",
    "plt.axvline(x=372)"
   ]
  },
  {
   "cell_type": "code",
   "execution_count": null,
   "metadata": {},
   "outputs": [],
   "source": []
  }
 ],
 "metadata": {
  "kernelspec": {
   "display_name": "Python 3",
   "language": "python",
   "name": "python3"
  },
  "language_info": {
   "codemirror_mode": {
    "name": "ipython",
    "version": 3
   },
   "file_extension": ".py",
   "mimetype": "text/x-python",
   "name": "python",
   "nbconvert_exporter": "python",
   "pygments_lexer": "ipython3",
   "version": "3.7.4"
  }
 },
 "nbformat": 4,
 "nbformat_minor": 2
}
